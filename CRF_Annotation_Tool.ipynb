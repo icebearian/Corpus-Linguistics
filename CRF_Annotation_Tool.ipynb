{
  "nbformat": 4,
  "nbformat_minor": 0,
  "metadata": {
    "colab": {
      "provenance": [],
      "collapsed_sections": [
        "jVfDp77Bx42i"
      ],
      "include_colab_link": true
    },
    "kernelspec": {
      "name": "python3",
      "display_name": "Python 3"
    }
  },
  "cells": [
    {
      "cell_type": "markdown",
      "metadata": {
        "id": "view-in-github",
        "colab_type": "text"
      },
      "source": [
        "<a href=\"https://colab.research.google.com/github/tedhwang007/Corpus-Linguistics/blob/main/CRF_Annotation_Tool.ipynb\" target=\"_parent\"><img src=\"https://colab.research.google.com/assets/colab-badge.svg\" alt=\"Open In Colab\"/></a>"
      ]
    },
    {
      "cell_type": "code",
      "metadata": {
        "id": "0AerxJrIRtk8",
        "colab": {
          "base_uri": "https://localhost:8080/"
        },
        "outputId": "cda75417-a519-4e9c-f01d-53e7278b895d"
      },
      "source": [
        "from google.colab import drive\n",
        "drive.mount('/content/drive',force_remount=True)"
      ],
      "execution_count": null,
      "outputs": [
        {
          "output_type": "stream",
          "name": "stdout",
          "text": [
            "Mounted at /content/drive\n"
          ]
        }
      ]
    },
    {
      "cell_type": "markdown",
      "metadata": {
        "id": "jVfDp77Bx42i"
      },
      "source": [
        "# **<font color='red'>Running model and data-processing<font>**\n",
        "\n",
        "\n"
      ]
    },
    {
      "cell_type": "code",
      "metadata": {
        "id": "4Gw8XIAqGsLr"
      },
      "source": [
        "import pandas as pd\n",
        "import os\n",
        "import pickle"
      ],
      "execution_count": null,
      "outputs": []
    },
    {
      "cell_type": "code",
      "metadata": {
        "id": "UITsyde1czrh"
      },
      "source": [
        "!pip install sklearn_crfsuite"
      ],
      "execution_count": null,
      "outputs": []
    },
    {
      "cell_type": "code",
      "metadata": {
        "id": "H4wjYQRYeh4w"
      },
      "source": [
        "crf = pickle.load(open(\"/content/drive/MyDrive/CS321_PROJECT/Data/crf_model_1000.sav\", 'rb'))\n",
        "sentences  = pd.read_csv(\"/content/drive/MyDrive/CS321_PROJECT/Data/data_tag.csv\")"
      ],
      "execution_count": null,
      "outputs": []
    },
    {
      "cell_type": "code",
      "metadata": {
        "id": "LaCJyWAC-u1W"
      },
      "source": [
        "def result_model(word):\n",
        "  x = sentences[\"sentence #\"][word-1]\n",
        "  sentence = x.split()\n",
        "  ner =crf.predict([sentence])\n",
        "  list_word = []\n",
        "  for i in range(len(sentence)):\n",
        "      list_word.append(sentence[i])\n",
        "  res = pd.DataFrame({\"word\": list_word, \"ner\": ner[0]})\n",
        "  ner_tag = {}\n",
        "  return res\n",
        "\n",
        "def edit(res,index,pre,ner,flag):\n",
        "  if flag == 0:\n",
        "    res[\"ner\"][index] = \"O\"\n",
        "  else:\n",
        "    res[\"ner\"][index]= pre + ner\n",
        "\n",
        "\n",
        "def write(data,round,annotator,sen):\n",
        "  dir = \"/content/drive/MyDrive/CS321_PROJECT/SET {}/annotator_{}_sentence_{}.txt\".format(round,annotator,sen)\n",
        "  f = open(dir,\"w\")\n",
        "  for i in range(len(data[\"word\"])):\n",
        "    f.write(data[\"word\"][i])\n",
        "    f.write(\" \")\n",
        "    f.write(data[\"ner\"][i])\n",
        "    f.write(\"\\n\")"
      ],
      "execution_count": null,
      "outputs": []
    },
    {
      "cell_type": "markdown",
      "metadata": {
        "id": "E1DgoCifKx4w"
      },
      "source": [
        "# **<font color='green'>Annotating</font>**"
      ]
    },
    {
      "cell_type": "code",
      "metadata": {
        "colab": {
          "base_uri": "https://localhost:8080/"
        },
        "id": "sQ9AlM8g-wXA",
        "cellView": "form",
        "outputId": "92412dc1-eeb6-4698-a482-78f8c2e312ab"
      },
      "source": [
        "#@title **<font color='darkb'>Chọn câu để gán nhãn</font>**\n",
        "\n",
        "sentence = '1'#@param {type:\"string\"}\n",
        "result = result_model(int(sentence))\n",
        "result\n",
        "print(sentences[\"sentence #\"][int(sentence)-1])\n",
        "with pd.option_context('display.max_rows', None, 'display.max_columns', None):  # more options can be specified also\n",
        "    print(result)"
      ],
      "execution_count": null,
      "outputs": [
        {
          "output_type": "stream",
          "name": "stdout",
          "text": [
            "Khoảng 17h30 ngày 16 - 5 , ông V. đi ngang qua khu cách_ly bệnh_viện thì ông H.H.T. ( 33 tuổi , ngụ tỉnh Hải_Dương ) là bệnh_nhân COVID - 19 đang điều_trị tại đây kêu ông V. bán một ly trà đường và ông V. tiến gần đến bán ( ông đứng phía ngoài khu cách_ly , cả hai có đeo khẩu_trang ) .\n",
            "          word           ner\n",
            "0       Khoảng             O\n",
            "1        17h30  B-PATIENT_ID\n",
            "2         ngày             O\n",
            "3           16        B-DATE\n",
            "4            -        I-DATE\n",
            "5            5        I-DATE\n",
            "6            ,             O\n",
            "7          ông             O\n",
            "8           V.             O\n",
            "9           đi             O\n",
            "10       ngang             O\n",
            "11         qua             O\n",
            "12         khu             O\n",
            "13     cách_ly             O\n",
            "14   bệnh_viện             O\n",
            "15         thì             O\n",
            "16         ông             O\n",
            "17      H.H.T.             O\n",
            "18           (             O\n",
            "19          33  B-PATIENT_ID\n",
            "20        tuổi             O\n",
            "21           ,             O\n",
            "22         ngụ             O\n",
            "23        tỉnh    B-LOCATION\n",
            "24   Hải_Dương    I-LOCATION\n",
            "25           )             O\n",
            "26          là             O\n",
            "27   bệnh_nhân             O\n",
            "28       COVID             O\n",
            "29           -             O\n",
            "30          19             O\n",
            "31        đang             O\n",
            "32    điều_trị             O\n",
            "33         tại             O\n",
            "34         đây             O\n",
            "35         kêu             O\n",
            "36         ông             O\n",
            "37          V.             O\n",
            "38         bán             O\n",
            "39         một             O\n",
            "40          ly             O\n",
            "41         trà             O\n",
            "42       đường             O\n",
            "43          và             O\n",
            "44         ông             O\n",
            "45          V.             O\n",
            "46        tiến             O\n",
            "47         gần             O\n",
            "48         đến             O\n",
            "49         bán             O\n",
            "50           (             O\n",
            "51         ông             O\n",
            "52        đứng             O\n",
            "53        phía             O\n",
            "54       ngoài             O\n",
            "55         khu             O\n",
            "56     cách_ly             O\n",
            "57           ,             O\n",
            "58          cả             O\n",
            "59         hai             O\n",
            "60          có             O\n",
            "61         đeo             O\n",
            "62  khẩu_trang             O\n",
            "63           )             O\n",
            "64           .             O\n"
          ]
        }
      ]
    },
    {
      "cell_type": "code",
      "metadata": {
        "id": "oIlcx8sjlf-z",
        "colab": {
          "base_uri": "https://localhost:8080/",
          "height": 686
        },
        "cellView": "form",
        "outputId": "e9eac325-f7cc-4f78-9bfe-22d0ad2ef000"
      },
      "source": [
        "#@title **<font color='blue'>Điều chỉnh nhãn</font>**\n",
        "\n",
        "Index =  '14'#@param {type:\"string\"}\n",
        "Pre = 'I-'#@param [\"B-\", \"I-\"] {type:\"string\"}\n",
        "Ner = 'PATIENT_ID' #@param [\"PATIENT_ID\", \"NAME\", \"AGE\", \"JOB\",\"GENDER\",\"LOCATION\",\"ORGANIZATION\",\"SYMPTOM&DISEASE\",\"DATE\",\"TRANSPORTATION\"] {type:\"string\"}\n",
        "O_label = False #@param {type:\"boolean\"}\n",
        "\n",
        "if O_label == True:\n",
        "  edit(result,int(Index),Pre,Ner,0)\n",
        "  print(\"Đã gán từ {} với nhãn {}\".format(result[\"word\"][int(Index)],\"O\"))\n",
        "else:\n",
        "  edit(result,int(Index),Pre,Ner,1)\n",
        "  print(\"Đã gán từ {} (vị trí {}) với nhãn {}{}\".format(result[\"word\"][int(Index)],Index,Pre,Ner))\n",
        "\n",
        "result"
      ],
      "execution_count": null,
      "outputs": [
        {
          "output_type": "stream",
          "name": "stdout",
          "text": [
            "Đã gán từ Hà_Tĩnh (vị trí 14) với nhãn I-LOCATION\n"
          ]
        },
        {
          "output_type": "execute_result",
          "data": {
            "text/html": [
              "<div>\n",
              "<style scoped>\n",
              "    .dataframe tbody tr th:only-of-type {\n",
              "        vertical-align: middle;\n",
              "    }\n",
              "\n",
              "    .dataframe tbody tr th {\n",
              "        vertical-align: top;\n",
              "    }\n",
              "\n",
              "    .dataframe thead th {\n",
              "        text-align: right;\n",
              "    }\n",
              "</style>\n",
              "<table border=\"1\" class=\"dataframe\">\n",
              "  <thead>\n",
              "    <tr style=\"text-align: right;\">\n",
              "      <th></th>\n",
              "      <th>word</th>\n",
              "      <th>ner</th>\n",
              "    </tr>\n",
              "  </thead>\n",
              "  <tbody>\n",
              "    <tr>\n",
              "      <th>0</th>\n",
              "      <td>Hiện</td>\n",
              "      <td>O</td>\n",
              "    </tr>\n",
              "    <tr>\n",
              "      <th>1</th>\n",
              "      <td>bệnh_nhân</td>\n",
              "      <td>O</td>\n",
              "    </tr>\n",
              "    <tr>\n",
              "      <th>2</th>\n",
              "      <td>đang</td>\n",
              "      <td>O</td>\n",
              "    </tr>\n",
              "    <tr>\n",
              "      <th>3</th>\n",
              "      <td>được</td>\n",
              "      <td>O</td>\n",
              "    </tr>\n",
              "    <tr>\n",
              "      <th>4</th>\n",
              "      <td>cách_ly</td>\n",
              "      <td>O</td>\n",
              "    </tr>\n",
              "    <tr>\n",
              "      <th>5</th>\n",
              "      <td>tại</td>\n",
              "      <td>O</td>\n",
              "    </tr>\n",
              "    <tr>\n",
              "      <th>6</th>\n",
              "      <td>Bệnh_viện</td>\n",
              "      <td>B-LOCATION</td>\n",
              "    </tr>\n",
              "    <tr>\n",
              "      <th>7</th>\n",
              "      <td>Đa_khoa</td>\n",
              "      <td>I-LOCATION</td>\n",
              "    </tr>\n",
              "    <tr>\n",
              "      <th>8</th>\n",
              "      <td>Cầu_Treo</td>\n",
              "      <td>I-LOCATION</td>\n",
              "    </tr>\n",
              "    <tr>\n",
              "      <th>9</th>\n",
              "      <td>,</td>\n",
              "      <td>O</td>\n",
              "    </tr>\n",
              "    <tr>\n",
              "      <th>10</th>\n",
              "      <td>huyện</td>\n",
              "      <td>B-LOCATION</td>\n",
              "    </tr>\n",
              "    <tr>\n",
              "      <th>11</th>\n",
              "      <td>Hương_Sơn</td>\n",
              "      <td>I-LOCATION</td>\n",
              "    </tr>\n",
              "    <tr>\n",
              "      <th>12</th>\n",
              "      <td>,</td>\n",
              "      <td>O</td>\n",
              "    </tr>\n",
              "    <tr>\n",
              "      <th>13</th>\n",
              "      <td>tỉnh</td>\n",
              "      <td>B-LOCATION</td>\n",
              "    </tr>\n",
              "    <tr>\n",
              "      <th>14</th>\n",
              "      <td>Hà_Tĩnh</td>\n",
              "      <td>I-LOCATION</td>\n",
              "    </tr>\n",
              "    <tr>\n",
              "      <th>15</th>\n",
              "      <td>,</td>\n",
              "      <td>O</td>\n",
              "    </tr>\n",
              "    <tr>\n",
              "      <th>16</th>\n",
              "      <td>tình_trạng</td>\n",
              "      <td>O</td>\n",
              "    </tr>\n",
              "    <tr>\n",
              "      <th>17</th>\n",
              "      <td>sức_khoẻ</td>\n",
              "      <td>O</td>\n",
              "    </tr>\n",
              "    <tr>\n",
              "      <th>18</th>\n",
              "      <td>ổn_định</td>\n",
              "      <td>O</td>\n",
              "    </tr>\n",
              "    <tr>\n",
              "      <th>19</th>\n",
              "      <td>.</td>\n",
              "      <td>O</td>\n",
              "    </tr>\n",
              "  </tbody>\n",
              "</table>\n",
              "</div>"
            ],
            "text/plain": [
              "          word         ner\n",
              "0         Hiện           O\n",
              "1    bệnh_nhân           O\n",
              "2         đang           O\n",
              "3         được           O\n",
              "4      cách_ly           O\n",
              "5          tại           O\n",
              "6    Bệnh_viện  B-LOCATION\n",
              "7      Đa_khoa  I-LOCATION\n",
              "8     Cầu_Treo  I-LOCATION\n",
              "9            ,           O\n",
              "10       huyện  B-LOCATION\n",
              "11   Hương_Sơn  I-LOCATION\n",
              "12           ,           O\n",
              "13        tỉnh  B-LOCATION\n",
              "14     Hà_Tĩnh  I-LOCATION\n",
              "15           ,           O\n",
              "16  tình_trạng           O\n",
              "17    sức_khoẻ           O\n",
              "18     ổn_định           O\n",
              "19           .           O"
            ]
          },
          "metadata": {},
          "execution_count": 48
        }
      ]
    },
    {
      "cell_type": "code",
      "metadata": {
        "colab": {
          "base_uri": "https://localhost:8080/"
        },
        "id": "PMh6ilqr9VKt",
        "cellView": "form",
        "outputId": "04b017db-ed4d-4fbd-ac04-ff04fd355ff2"
      },
      "source": [
        "#@title **<font color='green'>Lưu kết quả</font>**\n",
        "\n",
        "Round = '1'#@param [\"1\", \"2\", \"3\", \"4\", \"5\", \"6\", \"7\", \"8\", \"9\", \"10\"] {type:\"string\"}\n",
        "Annotator_ID = '1'#@param [\"1\", \"2\"] {type:\"string\"}\n",
        "\n",
        "r = int(Round)\n",
        "att = int(Annotator_ID)\n",
        "sen = int(sentence)\n",
        "\n",
        "write(result,r,att,sen)\n",
        "\n",
        "print(\"Saved\")"
      ],
      "execution_count": null,
      "outputs": [
        {
          "output_type": "stream",
          "name": "stdout",
          "text": [
            "Saved\n"
          ]
        }
      ]
    }
  ]
}