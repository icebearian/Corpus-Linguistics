{
  "nbformat": 4,
  "nbformat_minor": 0,
  "metadata": {
    "colab": {
      "provenance": [],
      "collapsed_sections": [
        "hH7fgKrDrjhW"
      ],
      "include_colab_link": true
    },
    "kernelspec": {
      "display_name": "Python 3",
      "name": "python3"
    },
    "language_info": {
      "name": "python"
    }
  },
  "cells": [
    {
      "cell_type": "markdown",
      "metadata": {
        "id": "view-in-github",
        "colab_type": "text"
      },
      "source": [
        "<a href=\"https://colab.research.google.com/github/tedhwang007/Corpus-Linguistics/blob/main/Annotation%20Tool/F1_Score.ipynb\" target=\"_parent\"><img src=\"https://colab.research.google.com/assets/colab-badge.svg\" alt=\"Open In Colab\"/></a>"
      ]
    },
    {
      "cell_type": "code",
      "metadata": {
        "colab": {
          "base_uri": "https://localhost:8080/"
        },
        "id": "0AerxJrIRtk8",
        "outputId": "dbfde36b-4cd1-41da-af63-ba903a0a9ef8"
      },
      "source": [
        "from google.colab import drive\n",
        "drive.mount('/content/drive')"
      ],
      "execution_count": null,
      "outputs": [
        {
          "output_type": "stream",
          "name": "stdout",
          "text": [
            "Mounted at /content/drive\n"
          ]
        }
      ]
    },
    {
      "cell_type": "markdown",
      "metadata": {
        "id": "hH7fgKrDrjhW"
      },
      "source": [
        "## **<font color='red'>Các hàm xử lý file và tính độ đo</font>**"
      ]
    },
    {
      "cell_type": "code",
      "metadata": {
        "id": "Qgmy-WMBz5eb"
      },
      "source": [
        "import pandas as pd\n",
        "data  = pd.read_csv(\"/content/drive/MyDrive/CS321_PROJECT/Data/data_tag.csv\")"
      ],
      "execution_count": null,
      "outputs": []
    },
    {
      "cell_type": "code",
      "metadata": {
        "id": "t8vRqohg3put"
      },
      "source": [
        "def read_file(round):\n",
        "  dir = '/content/drive/MyDrive/CS321_PROJECT/SET {}/gold_data_set_{}.txt'.format(round,round)\n",
        "  with open(dir, \"r\") as file1:\n",
        "    annotator = file1.readlines()\n",
        "    y = []\n",
        "    for i in range(len(annotator)):\n",
        "      x = annotator[i].split()\n",
        "      y.append(x)\n",
        "    return y"
      ],
      "execution_count": null,
      "outputs": []
    },
    {
      "cell_type": "code",
      "metadata": {
        "id": "k6oilgBoqwKN"
      },
      "source": [
        "def import_file(annotator,round,sentence):\n",
        "  res = []\n",
        "  dir = \"/content/drive/MyDrive/CS321_PROJECT/SET {}/annotator_{}_sentence_{}.txt\".format(round,annotator,sentence)\n",
        "  with open(dir, \"r\") as file1:\n",
        "    A1 = file1.readlines()\n",
        "    y = []\n",
        "    for j in range(len(A1)):\n",
        "      a,b = A1[j].split()\n",
        "      y.append(b)\n",
        "  return y"
      ],
      "execution_count": null,
      "outputs": []
    },
    {
      "cell_type": "code",
      "metadata": {
        "id": "rdP1CbWA2oDb"
      },
      "source": [
        "def visualize(data,a1,a2,ag,cau_thu,id):\n",
        "  x = data[\"sentence #\"][cau_thu-1]\n",
        "  words = x.split()\n",
        "  res = pd.DataFrame({\"word\": words,\n",
        "                      \"ner_gold\": ag[id],\n",
        "                      \"ner_a1\": a1[id],\n",
        "                      \"ner_a2\": a2[id]})\n",
        "  return res"
      ],
      "execution_count": null,
      "outputs": []
    },
    {
      "cell_type": "code",
      "metadata": {
        "id": "NKI5DTmj_Jbk",
        "colab": {
          "base_uri": "https://localhost:8080/"
        },
        "outputId": "4ce4f432-c04c-4f4a-e56e-c0b6b834bce3"
      },
      "source": [
        "!pip install seqeval"
      ],
      "execution_count": null,
      "outputs": [
        {
          "output_type": "stream",
          "name": "stdout",
          "text": [
            "Collecting seqeval\n",
            "  Downloading seqeval-1.2.2.tar.gz (43 kB)\n",
            "\u001b[?25l\r\u001b[K     |███████▌                        | 10 kB 26.0 MB/s eta 0:00:01\r\u001b[K     |███████████████                 | 20 kB 11.2 MB/s eta 0:00:01\r\u001b[K     |██████████████████████▌         | 30 kB 9.6 MB/s eta 0:00:01\r\u001b[K     |██████████████████████████████  | 40 kB 8.3 MB/s eta 0:00:01\r\u001b[K     |████████████████████████████████| 43 kB 1.1 MB/s \n",
            "\u001b[?25hRequirement already satisfied: numpy>=1.14.0 in /usr/local/lib/python3.7/dist-packages (from seqeval) (1.19.5)\n",
            "Requirement already satisfied: scikit-learn>=0.21.3 in /usr/local/lib/python3.7/dist-packages (from seqeval) (1.0.1)\n",
            "Requirement already satisfied: threadpoolctl>=2.0.0 in /usr/local/lib/python3.7/dist-packages (from scikit-learn>=0.21.3->seqeval) (3.0.0)\n",
            "Requirement already satisfied: scipy>=1.1.0 in /usr/local/lib/python3.7/dist-packages (from scikit-learn>=0.21.3->seqeval) (1.4.1)\n",
            "Requirement already satisfied: joblib>=0.11 in /usr/local/lib/python3.7/dist-packages (from scikit-learn>=0.21.3->seqeval) (1.1.0)\n",
            "Building wheels for collected packages: seqeval\n",
            "  Building wheel for seqeval (setup.py) ... \u001b[?25l\u001b[?25hdone\n",
            "  Created wheel for seqeval: filename=seqeval-1.2.2-py3-none-any.whl size=16181 sha256=3ec96d6db2060a0cc40aaf76a5942684d480f358994e696ed210cdc912d14d70\n",
            "  Stored in directory: /root/.cache/pip/wheels/05/96/ee/7cac4e74f3b19e3158dce26a20a1c86b3533c43ec72a549fd7\n",
            "Successfully built seqeval\n",
            "Installing collected packages: seqeval\n",
            "Successfully installed seqeval-1.2.2\n"
          ]
        }
      ]
    },
    {
      "cell_type": "code",
      "metadata": {
        "id": "Jqc9i59T1rmu"
      },
      "source": [
        "from seqeval.metrics import accuracy_score\n",
        "from seqeval.metrics import classification_report\n",
        "from seqeval.metrics import f1_score\n",
        "import os\n",
        "\n",
        "def show(y_a1,y_a2,y_gold):\n",
        "  x = f1_score(y_gold,y_a1)*100\n",
        "  y = f1_score(y_gold,y_a2)*100\n",
        "  z = (x+y)/2\n",
        "  data = pd.DataFrame({\n",
        "      \"Metric\": [\"Accuracy\",\"Agreement\"],\n",
        "      \"Annotator 1\" : [x,\"-\"],\n",
        "      \"Annotator 2\" : [y,\"-\"],\n",
        "      \"Average\" : [z,f1_score(y_a1,y_a2)*100]\n",
        "  })\n",
        "  return data\n",
        ""
      ],
      "execution_count": null,
      "outputs": []
    },
    {
      "cell_type": "markdown",
      "metadata": {
        "id": "1bObCoGOjk71"
      },
      "source": [
        "## **<font color='red'>Đánh giá kết quả</font>**"
      ]
    },
    {
      "cell_type": "code",
      "metadata": {
        "colab": {
          "base_uri": "https://localhost:8080/",
          "height": 112
        },
        "id": "ydst6Yy2enCo",
        "outputId": "fa456700-3fc4-457b-915e-97c5d762090c",
        "cellView": "form"
      },
      "source": [
        "#@title **<font color='blue'>Đánh giá</font>**\n",
        "round =  '2'#@param [\"1\",\"2\",\"3\",\"4\",\"5\",\"6\",\"7\",\"8\",\"9\",\"10\"]{type:\"string\"}\n",
        "round = int(round)\n",
        "sentence = [x for x in range(5*round+1)]\n",
        "sentence = sentence[-5:]\n",
        "a1 = []\n",
        "for i in sentence:\n",
        "  a1.append(import_file(1,round,i))\n",
        "a2 = []\n",
        "for i in sentence:\n",
        "  a2.append(import_file(2,round,i))\n",
        "\n",
        "ag =read_file(round)\n",
        "show(a1,a2,ag)"
      ],
      "execution_count": null,
      "outputs": [
        {
          "output_type": "execute_result",
          "data": {
            "text/html": [
              "\n",
              "  <div id=\"df-a2063c0d-475d-4c5b-b5ff-7cf4ad3d47cc\">\n",
              "    <div class=\"colab-df-container\">\n",
              "      <div>\n",
              "<style scoped>\n",
              "    .dataframe tbody tr th:only-of-type {\n",
              "        vertical-align: middle;\n",
              "    }\n",
              "\n",
              "    .dataframe tbody tr th {\n",
              "        vertical-align: top;\n",
              "    }\n",
              "\n",
              "    .dataframe thead th {\n",
              "        text-align: right;\n",
              "    }\n",
              "</style>\n",
              "<table border=\"1\" class=\"dataframe\">\n",
              "  <thead>\n",
              "    <tr style=\"text-align: right;\">\n",
              "      <th></th>\n",
              "      <th>Metric</th>\n",
              "      <th>Annotator 1</th>\n",
              "      <th>Annotator 2</th>\n",
              "      <th>Average</th>\n",
              "    </tr>\n",
              "  </thead>\n",
              "  <tbody>\n",
              "    <tr>\n",
              "      <th>0</th>\n",
              "      <td>Accuracy</td>\n",
              "      <td>97.1429</td>\n",
              "      <td>97.1429</td>\n",
              "      <td>97.142857</td>\n",
              "    </tr>\n",
              "    <tr>\n",
              "      <th>1</th>\n",
              "      <td>Agreement</td>\n",
              "      <td>-</td>\n",
              "      <td>-</td>\n",
              "      <td>100.000000</td>\n",
              "    </tr>\n",
              "  </tbody>\n",
              "</table>\n",
              "</div>\n",
              "      <button class=\"colab-df-convert\" onclick=\"convertToInteractive('df-a2063c0d-475d-4c5b-b5ff-7cf4ad3d47cc')\"\n",
              "              title=\"Convert this dataframe to an interactive table.\"\n",
              "              style=\"display:none;\">\n",
              "        \n",
              "  <svg xmlns=\"http://www.w3.org/2000/svg\" height=\"24px\"viewBox=\"0 0 24 24\"\n",
              "       width=\"24px\">\n",
              "    <path d=\"M0 0h24v24H0V0z\" fill=\"none\"/>\n",
              "    <path d=\"M18.56 5.44l.94 2.06.94-2.06 2.06-.94-2.06-.94-.94-2.06-.94 2.06-2.06.94zm-11 1L8.5 8.5l.94-2.06 2.06-.94-2.06-.94L8.5 2.5l-.94 2.06-2.06.94zm10 10l.94 2.06.94-2.06 2.06-.94-2.06-.94-.94-2.06-.94 2.06-2.06.94z\"/><path d=\"M17.41 7.96l-1.37-1.37c-.4-.4-.92-.59-1.43-.59-.52 0-1.04.2-1.43.59L10.3 9.45l-7.72 7.72c-.78.78-.78 2.05 0 2.83L4 21.41c.39.39.9.59 1.41.59.51 0 1.02-.2 1.41-.59l7.78-7.78 2.81-2.81c.8-.78.8-2.07 0-2.86zM5.41 20L4 18.59l7.72-7.72 1.47 1.35L5.41 20z\"/>\n",
              "  </svg>\n",
              "      </button>\n",
              "      \n",
              "  <style>\n",
              "    .colab-df-container {\n",
              "      display:flex;\n",
              "      flex-wrap:wrap;\n",
              "      gap: 12px;\n",
              "    }\n",
              "\n",
              "    .colab-df-convert {\n",
              "      background-color: #E8F0FE;\n",
              "      border: none;\n",
              "      border-radius: 50%;\n",
              "      cursor: pointer;\n",
              "      display: none;\n",
              "      fill: #1967D2;\n",
              "      height: 32px;\n",
              "      padding: 0 0 0 0;\n",
              "      width: 32px;\n",
              "    }\n",
              "\n",
              "    .colab-df-convert:hover {\n",
              "      background-color: #E2EBFA;\n",
              "      box-shadow: 0px 1px 2px rgba(60, 64, 67, 0.3), 0px 1px 3px 1px rgba(60, 64, 67, 0.15);\n",
              "      fill: #174EA6;\n",
              "    }\n",
              "\n",
              "    [theme=dark] .colab-df-convert {\n",
              "      background-color: #3B4455;\n",
              "      fill: #D2E3FC;\n",
              "    }\n",
              "\n",
              "    [theme=dark] .colab-df-convert:hover {\n",
              "      background-color: #434B5C;\n",
              "      box-shadow: 0px 1px 3px 1px rgba(0, 0, 0, 0.15);\n",
              "      filter: drop-shadow(0px 1px 2px rgba(0, 0, 0, 0.3));\n",
              "      fill: #FFFFFF;\n",
              "    }\n",
              "  </style>\n",
              "\n",
              "      <script>\n",
              "        const buttonEl =\n",
              "          document.querySelector('#df-a2063c0d-475d-4c5b-b5ff-7cf4ad3d47cc button.colab-df-convert');\n",
              "        buttonEl.style.display =\n",
              "          google.colab.kernel.accessAllowed ? 'block' : 'none';\n",
              "\n",
              "        async function convertToInteractive(key) {\n",
              "          const element = document.querySelector('#df-a2063c0d-475d-4c5b-b5ff-7cf4ad3d47cc');\n",
              "          const dataTable =\n",
              "            await google.colab.kernel.invokeFunction('convertToInteractive',\n",
              "                                                     [key], {});\n",
              "          if (!dataTable) return;\n",
              "\n",
              "          const docLinkHtml = 'Like what you see? Visit the ' +\n",
              "            '<a target=\"_blank\" href=https://colab.research.google.com/notebooks/data_table.ipynb>data table notebook</a>'\n",
              "            + ' to learn more about interactive tables.';\n",
              "          element.innerHTML = '';\n",
              "          dataTable['output_type'] = 'display_data';\n",
              "          await google.colab.output.renderOutput(dataTable, element);\n",
              "          const docLink = document.createElement('div');\n",
              "          docLink.innerHTML = docLinkHtml;\n",
              "          element.appendChild(docLink);\n",
              "        }\n",
              "      </script>\n",
              "    </div>\n",
              "  </div>\n",
              "  "
            ],
            "text/plain": [
              "      Metric Annotator 1 Annotator 2     Average\n",
              "0   Accuracy     97.1429     97.1429   97.142857\n",
              "1  Agreement           -           -  100.000000"
            ]
          },
          "metadata": {},
          "execution_count": 16
        }
      ]
    },
    {
      "cell_type": "code",
      "metadata": {
        "colab": {
          "base_uri": "https://localhost:8080/"
        },
        "id": "OHq2aKXPi8y_",
        "cellView": "form",
        "outputId": "46b54132-8c6b-42e8-a1e9-7c284c919e51"
      },
      "source": [
        "#@title **<font color='green'>Hiển thị kết quả</font>**\n",
        "sentence_ =  '3'#@param [\"1\",\"2\",\"3\",\"4\",\"5\"]{type:\"string\"}\n",
        "sentence_ = int(sentence_)\n",
        "with pd.option_context('display.max_rows', None, 'display.max_columns', None):  # more options can be specified also\n",
        "  print(visualize(data,a1,a2,ag,sentence[sentence_-1],sentence_-1))"
      ],
      "execution_count": null,
      "outputs": [
        {
          "output_type": "stream",
          "name": "stdout",
          "text": [
            "         word ner_gold                 ner_a1                 ner_a2\n",
            "0   Tuy_nhiên        O                      O                      O\n",
            "1           ,        O                      O                      O\n",
            "2   bệnh_nhân        O                      O                      O\n",
            "3         chỉ        O                      O                      O\n",
            "4        được        O                      O                      O\n",
            "5        phép        O                      O                      O\n",
            "6     duy_trì        O                      O                      O\n",
            "7      tư_thế        O                      O                      O\n",
            "8         này        O                      O                      O\n",
            "9       trong        O                      O                      O\n",
            "10       vòng        O                      O                      O\n",
            "11         16        O                      O                      O\n",
            "12      tiếng        O                      O                      O\n",
            "13        mỗi        O                      O                      O\n",
            "14        này        O                      O                      O\n",
            "15          ,        O                      O                      O\n",
            "16        nếu        O                      O                      O\n",
            "17      không        O                      O                      O\n",
            "18         sẽ        O                      O                      O\n",
            "19         bị        O                      O                      O\n",
            "20       loét        O  B-SYMPTOM_AND_DISEASE  B-SYMPTOM_AND_DISEASE\n",
            "21       điểm        O  I-SYMPTOM_AND_DISEASE  I-SYMPTOM_AND_DISEASE\n",
            "22         tì        O  I-SYMPTOM_AND_DISEASE  I-SYMPTOM_AND_DISEASE\n",
            "23          .        O                      O                      O\n"
          ]
        }
      ]
    }
  ]
}